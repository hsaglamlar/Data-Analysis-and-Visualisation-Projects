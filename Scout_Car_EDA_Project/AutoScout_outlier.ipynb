{
 "cells": [
  {
   "cell_type": "markdown",
   "metadata": {},
   "source": [
    "# PART- 3 `( Outlier Handling )`"
   ]
  },
  {
   "cell_type": "code",
   "execution_count": 1,
   "metadata": {},
   "outputs": [],
   "source": [
    "import pandas as pd\n",
    "import numpy as np\n",
    "import seaborn as sns\n",
    "import matplotlib.pyplot as plt\n",
    "\n",
    "import warnings\n",
    "warnings.filterwarnings('ignore')\n",
    "warnings.warn(\"this will not show\")\n",
    "\n",
    "%matplotlib inline\n",
    "\n",
    "sns.set_style(\"whitegrid\")\n",
    "pd.set_option('display.float_format', lambda x: '%.3f' % x)"
   ]
  },
  {
   "cell_type": "code",
   "execution_count": 2,
   "metadata": {},
   "outputs": [],
   "source": [
    "df_car = pd.read_csv(\"df_car_filled.csv\")"
   ]
  },
  {
   "cell_type": "code",
   "execution_count": 3,
   "metadata": {},
   "outputs": [],
   "source": [
    "def groupby_mode2(group_col1, group_col2, fill_col):\n",
    "    for group1 in list(df_car[group_col1].unique()):\n",
    "        cond1 = (df_car[group_col1]==group1)\n",
    "        \n",
    "        for group2 in list(df_car[group_col2].unique()):\n",
    "            cond2 = (df_car[group_col2]==group2)\n",
    "            cond = (cond1 & cond2)\n",
    "            \n",
    "            mode2 = list(df_car[cond][fill_col].mode())\n",
    "            \n",
    "            if mode2 != []:\n",
    "                df_car.loc[cond,fill_col] = df_car.loc[cond,fill_col].fillna(mode2[0])\n",
    "            elif list(df_car[cond1][fill_col].mode()) != []:\n",
    "                df_car.loc[cond,fill_col] = df_car.loc[cond,fill_col].fillna(df_car[cond1][fill_col].mode()[0])\n",
    "            else:\n",
    "                df_car.loc[cond,fill_col] = df_car.loc[cond,fill_col].fillna(df_car[fill_col].mode()[0])\n",
    "    print(\"Number of NaN : \",df_car[fill_col].isnull().sum())\n",
    "    print(\"------------------\")\n",
    "    print(df_car[fill_col].value_counts(dropna=False))\n",
    "\n",
    "def fill_most(df, group_col, col_name):\n",
    "    '''Fills the missing values with the most existing value (mode) in the relevant column according to single-stage grouping'''\n",
    "    for group in list(df[group_col].unique()):\n",
    "        cond = df[group_col]==group\n",
    "        mode = list(df[cond][col_name].mode())\n",
    "        if mode != []:\n",
    "            df.loc[cond, col_name] = df.loc[cond, col_name].fillna(df[cond][col_name].mode()[0])\n",
    "        else:\n",
    "            df.loc[cond, col_name] = df.loc[cond, col_name].fillna(df[col_name].mode()[0])\n",
    "    print(\"Number of NaN : \",df[col_name].isnull().sum())\n",
    "    print(\"------------------\")\n",
    "    print(df[col_name].value_counts(dropna=False))"
   ]
  },
  {
   "cell_type": "code",
   "execution_count": 4,
   "metadata": {},
   "outputs": [
    {
     "data": {
      "text/html": [
       "<div>\n",
       "<style scoped>\n",
       "    .dataframe tbody tr th:only-of-type {\n",
       "        vertical-align: middle;\n",
       "    }\n",
       "\n",
       "    .dataframe tbody tr th {\n",
       "        vertical-align: top;\n",
       "    }\n",
       "\n",
       "    .dataframe thead th {\n",
       "        text-align: right;\n",
       "    }\n",
       "</style>\n",
       "<table border=\"1\" class=\"dataframe\">\n",
       "  <thead>\n",
       "    <tr style=\"text-align: right;\">\n",
       "      <th></th>\n",
       "      <th>0</th>\n",
       "      <th>1</th>\n",
       "      <th>2</th>\n",
       "      <th>3</th>\n",
       "      <th>4</th>\n",
       "    </tr>\n",
       "  </thead>\n",
       "  <tbody>\n",
       "    <tr>\n",
       "      <th>make_model</th>\n",
       "      <td>Audi A1</td>\n",
       "      <td>Audi A1</td>\n",
       "      <td>Audi A1</td>\n",
       "      <td>Audi A1</td>\n",
       "      <td>Audi A1</td>\n",
       "    </tr>\n",
       "    <tr>\n",
       "      <th>body_type</th>\n",
       "      <td>Sedans</td>\n",
       "      <td>Sedans</td>\n",
       "      <td>Sedans</td>\n",
       "      <td>Sedans</td>\n",
       "      <td>Sedans</td>\n",
       "    </tr>\n",
       "    <tr>\n",
       "      <th>price</th>\n",
       "      <td>15770</td>\n",
       "      <td>14500</td>\n",
       "      <td>14640</td>\n",
       "      <td>14500</td>\n",
       "      <td>16790</td>\n",
       "    </tr>\n",
       "    <tr>\n",
       "      <th>km</th>\n",
       "      <td>56013.0</td>\n",
       "      <td>80000.0</td>\n",
       "      <td>83450.0</td>\n",
       "      <td>73000.0</td>\n",
       "      <td>16200.0</td>\n",
       "    </tr>\n",
       "    <tr>\n",
       "      <th>car_age</th>\n",
       "      <td>3.0</td>\n",
       "      <td>2.0</td>\n",
       "      <td>3.0</td>\n",
       "      <td>3.0</td>\n",
       "      <td>3.0</td>\n",
       "    </tr>\n",
       "    <tr>\n",
       "      <th>prev_owner</th>\n",
       "      <td>2.0</td>\n",
       "      <td>1.0</td>\n",
       "      <td>1.0</td>\n",
       "      <td>1.0</td>\n",
       "      <td>1.0</td>\n",
       "    </tr>\n",
       "    <tr>\n",
       "      <th>horse_power</th>\n",
       "      <td>66.0</td>\n",
       "      <td>141.0</td>\n",
       "      <td>85.0</td>\n",
       "      <td>66.0</td>\n",
       "      <td>66.0</td>\n",
       "    </tr>\n",
       "    <tr>\n",
       "      <th>color</th>\n",
       "      <td>Black</td>\n",
       "      <td>Red</td>\n",
       "      <td>Black</td>\n",
       "      <td>Brown</td>\n",
       "      <td>Black</td>\n",
       "    </tr>\n",
       "    <tr>\n",
       "      <th>paint_type</th>\n",
       "      <td>Metallic</td>\n",
       "      <td>Metallic</td>\n",
       "      <td>Metallic</td>\n",
       "      <td>Metallic</td>\n",
       "      <td>Metallic</td>\n",
       "    </tr>\n",
       "    <tr>\n",
       "      <th>gears</th>\n",
       "      <td>7.0</td>\n",
       "      <td>7.0</td>\n",
       "      <td>7.0</td>\n",
       "      <td>6.0</td>\n",
       "      <td>7.0</td>\n",
       "    </tr>\n",
       "    <tr>\n",
       "      <th>safety_security</th>\n",
       "      <td>abs,central door lock,daytime running lights,d...</td>\n",
       "      <td>abs,central door lock,central door lock with r...</td>\n",
       "      <td>abs,central door lock,daytime running lights,d...</td>\n",
       "      <td>abs,alarm system,central door lock with remote...</td>\n",
       "      <td>abs,central door lock,driver-side airbag,elect...</td>\n",
       "    </tr>\n",
       "    <tr>\n",
       "      <th>type</th>\n",
       "      <td>Used</td>\n",
       "      <td>Used</td>\n",
       "      <td>Used</td>\n",
       "      <td>Used</td>\n",
       "      <td>Used</td>\n",
       "    </tr>\n",
       "    <tr>\n",
       "      <th>upholstery</th>\n",
       "      <td>Cloth</td>\n",
       "      <td>Cloth</td>\n",
       "      <td>Cloth</td>\n",
       "      <td>Cloth</td>\n",
       "      <td>Cloth</td>\n",
       "    </tr>\n",
       "    <tr>\n",
       "      <th>nr_of_doors</th>\n",
       "      <td>5.0</td>\n",
       "      <td>3.0</td>\n",
       "      <td>4.0</td>\n",
       "      <td>3.0</td>\n",
       "      <td>5.0</td>\n",
       "    </tr>\n",
       "    <tr>\n",
       "      <th>nr_of_seats</th>\n",
       "      <td>5.0</td>\n",
       "      <td>4.0</td>\n",
       "      <td>4.0</td>\n",
       "      <td>4.0</td>\n",
       "      <td>5.0</td>\n",
       "    </tr>\n",
       "    <tr>\n",
       "      <th>gearing_type</th>\n",
       "      <td>Automatic</td>\n",
       "      <td>Automatic</td>\n",
       "      <td>Automatic</td>\n",
       "      <td>Automatic</td>\n",
       "      <td>Automatic</td>\n",
       "    </tr>\n",
       "    <tr>\n",
       "      <th>displacement</th>\n",
       "      <td>1400.0</td>\n",
       "      <td>1800.0</td>\n",
       "      <td>1600.0</td>\n",
       "      <td>1400.0</td>\n",
       "      <td>1400.0</td>\n",
       "    </tr>\n",
       "    <tr>\n",
       "      <th>cylinders</th>\n",
       "      <td>3.0</td>\n",
       "      <td>4.0</td>\n",
       "      <td>4.0</td>\n",
       "      <td>3.0</td>\n",
       "      <td>3.0</td>\n",
       "    </tr>\n",
       "    <tr>\n",
       "      <th>weight_kg</th>\n",
       "      <td>1220.0</td>\n",
       "      <td>1255.0</td>\n",
       "      <td>1135.0</td>\n",
       "      <td>1195.0</td>\n",
       "      <td>1135.0</td>\n",
       "    </tr>\n",
       "    <tr>\n",
       "      <th>drive_chain</th>\n",
       "      <td>front</td>\n",
       "      <td>front</td>\n",
       "      <td>front</td>\n",
       "      <td>front</td>\n",
       "      <td>front</td>\n",
       "    </tr>\n",
       "    <tr>\n",
       "      <th>fuel</th>\n",
       "      <td>Diesel</td>\n",
       "      <td>Benzine</td>\n",
       "      <td>Diesel</td>\n",
       "      <td>Diesel</td>\n",
       "      <td>Diesel</td>\n",
       "    </tr>\n",
       "    <tr>\n",
       "      <th>consump_comb</th>\n",
       "      <td>3.8</td>\n",
       "      <td>5.6</td>\n",
       "      <td>3.8</td>\n",
       "      <td>3.8</td>\n",
       "      <td>4.1</td>\n",
       "    </tr>\n",
       "    <tr>\n",
       "      <th>consump_city</th>\n",
       "      <td>4.3</td>\n",
       "      <td>7.1</td>\n",
       "      <td>4.4</td>\n",
       "      <td>4.3</td>\n",
       "      <td>4.6</td>\n",
       "    </tr>\n",
       "    <tr>\n",
       "      <th>consump_country</th>\n",
       "      <td>3.5</td>\n",
       "      <td>4.7</td>\n",
       "      <td>3.4</td>\n",
       "      <td>3.5</td>\n",
       "      <td>3.8</td>\n",
       "    </tr>\n",
       "    <tr>\n",
       "      <th>co2_emission</th>\n",
       "      <td>99.0</td>\n",
       "      <td>129.0</td>\n",
       "      <td>99.0</td>\n",
       "      <td>99.0</td>\n",
       "      <td>109.0</td>\n",
       "    </tr>\n",
       "    <tr>\n",
       "      <th>comfort_convenience</th>\n",
       "      <td>Air conditioning,Armrest,Automatic climate con...</td>\n",
       "      <td>Air conditioning,Automatic climate control,Hil...</td>\n",
       "      <td>Air conditioning,Cruise control,Electrical sid...</td>\n",
       "      <td>Air suspension,Armrest,Auxiliary heating,Elect...</td>\n",
       "      <td>Air conditioning,Armrest,Automatic climate con...</td>\n",
       "    </tr>\n",
       "    <tr>\n",
       "      <th>media</th>\n",
       "      <td>Bluetooth,Hands-free equipment,On-board comput...</td>\n",
       "      <td>Bluetooth,Hands-free equipment,On-board comput...</td>\n",
       "      <td>MP3,On-board computer</td>\n",
       "      <td>Bluetooth,CD player,Hands-free equipment,MP3,O...</td>\n",
       "      <td>Bluetooth,CD player,Hands-free equipment,MP3,O...</td>\n",
       "    </tr>\n",
       "    <tr>\n",
       "      <th>extras</th>\n",
       "      <td>Alloy wheels,Catalytic Converter,Voice Control</td>\n",
       "      <td>Alloy wheels,Sport seats,Sport suspension,Voic...</td>\n",
       "      <td>Alloy wheels,Voice Control</td>\n",
       "      <td>Alloy wheels,Sport seats,Voice Control</td>\n",
       "      <td>Alloy wheels,Sport package,Sport suspension,Vo...</td>\n",
       "    </tr>\n",
       "  </tbody>\n",
       "</table>\n",
       "</div>"
      ],
      "text/plain": [
       "                                                                     0  \\\n",
       "make_model                                                     Audi A1   \n",
       "body_type                                                       Sedans   \n",
       "price                                                            15770   \n",
       "km                                                             56013.0   \n",
       "car_age                                                            3.0   \n",
       "prev_owner                                                         2.0   \n",
       "horse_power                                                       66.0   \n",
       "color                                                            Black   \n",
       "paint_type                                                    Metallic   \n",
       "gears                                                              7.0   \n",
       "safety_security      abs,central door lock,daytime running lights,d...   \n",
       "type                                                              Used   \n",
       "upholstery                                                       Cloth   \n",
       "nr_of_doors                                                        5.0   \n",
       "nr_of_seats                                                        5.0   \n",
       "gearing_type                                                 Automatic   \n",
       "displacement                                                    1400.0   \n",
       "cylinders                                                          3.0   \n",
       "weight_kg                                                       1220.0   \n",
       "drive_chain                                                      front   \n",
       "fuel                                                            Diesel   \n",
       "consump_comb                                                       3.8   \n",
       "consump_city                                                       4.3   \n",
       "consump_country                                                    3.5   \n",
       "co2_emission                                                      99.0   \n",
       "comfort_convenience  Air conditioning,Armrest,Automatic climate con...   \n",
       "media                Bluetooth,Hands-free equipment,On-board comput...   \n",
       "extras                  Alloy wheels,Catalytic Converter,Voice Control   \n",
       "\n",
       "                                                                     1  \\\n",
       "make_model                                                     Audi A1   \n",
       "body_type                                                       Sedans   \n",
       "price                                                            14500   \n",
       "km                                                             80000.0   \n",
       "car_age                                                            2.0   \n",
       "prev_owner                                                         1.0   \n",
       "horse_power                                                      141.0   \n",
       "color                                                              Red   \n",
       "paint_type                                                    Metallic   \n",
       "gears                                                              7.0   \n",
       "safety_security      abs,central door lock,central door lock with r...   \n",
       "type                                                              Used   \n",
       "upholstery                                                       Cloth   \n",
       "nr_of_doors                                                        3.0   \n",
       "nr_of_seats                                                        4.0   \n",
       "gearing_type                                                 Automatic   \n",
       "displacement                                                    1800.0   \n",
       "cylinders                                                          4.0   \n",
       "weight_kg                                                       1255.0   \n",
       "drive_chain                                                      front   \n",
       "fuel                                                           Benzine   \n",
       "consump_comb                                                       5.6   \n",
       "consump_city                                                       7.1   \n",
       "consump_country                                                    4.7   \n",
       "co2_emission                                                     129.0   \n",
       "comfort_convenience  Air conditioning,Automatic climate control,Hil...   \n",
       "media                Bluetooth,Hands-free equipment,On-board comput...   \n",
       "extras               Alloy wheels,Sport seats,Sport suspension,Voic...   \n",
       "\n",
       "                                                                     2  \\\n",
       "make_model                                                     Audi A1   \n",
       "body_type                                                       Sedans   \n",
       "price                                                            14640   \n",
       "km                                                             83450.0   \n",
       "car_age                                                            3.0   \n",
       "prev_owner                                                         1.0   \n",
       "horse_power                                                       85.0   \n",
       "color                                                            Black   \n",
       "paint_type                                                    Metallic   \n",
       "gears                                                              7.0   \n",
       "safety_security      abs,central door lock,daytime running lights,d...   \n",
       "type                                                              Used   \n",
       "upholstery                                                       Cloth   \n",
       "nr_of_doors                                                        4.0   \n",
       "nr_of_seats                                                        4.0   \n",
       "gearing_type                                                 Automatic   \n",
       "displacement                                                    1600.0   \n",
       "cylinders                                                          4.0   \n",
       "weight_kg                                                       1135.0   \n",
       "drive_chain                                                      front   \n",
       "fuel                                                            Diesel   \n",
       "consump_comb                                                       3.8   \n",
       "consump_city                                                       4.4   \n",
       "consump_country                                                    3.4   \n",
       "co2_emission                                                      99.0   \n",
       "comfort_convenience  Air conditioning,Cruise control,Electrical sid...   \n",
       "media                                            MP3,On-board computer   \n",
       "extras                                      Alloy wheels,Voice Control   \n",
       "\n",
       "                                                                     3  \\\n",
       "make_model                                                     Audi A1   \n",
       "body_type                                                       Sedans   \n",
       "price                                                            14500   \n",
       "km                                                             73000.0   \n",
       "car_age                                                            3.0   \n",
       "prev_owner                                                         1.0   \n",
       "horse_power                                                       66.0   \n",
       "color                                                            Brown   \n",
       "paint_type                                                    Metallic   \n",
       "gears                                                              6.0   \n",
       "safety_security      abs,alarm system,central door lock with remote...   \n",
       "type                                                              Used   \n",
       "upholstery                                                       Cloth   \n",
       "nr_of_doors                                                        3.0   \n",
       "nr_of_seats                                                        4.0   \n",
       "gearing_type                                                 Automatic   \n",
       "displacement                                                    1400.0   \n",
       "cylinders                                                          3.0   \n",
       "weight_kg                                                       1195.0   \n",
       "drive_chain                                                      front   \n",
       "fuel                                                            Diesel   \n",
       "consump_comb                                                       3.8   \n",
       "consump_city                                                       4.3   \n",
       "consump_country                                                    3.5   \n",
       "co2_emission                                                      99.0   \n",
       "comfort_convenience  Air suspension,Armrest,Auxiliary heating,Elect...   \n",
       "media                Bluetooth,CD player,Hands-free equipment,MP3,O...   \n",
       "extras                          Alloy wheels,Sport seats,Voice Control   \n",
       "\n",
       "                                                                     4  \n",
       "make_model                                                     Audi A1  \n",
       "body_type                                                       Sedans  \n",
       "price                                                            16790  \n",
       "km                                                             16200.0  \n",
       "car_age                                                            3.0  \n",
       "prev_owner                                                         1.0  \n",
       "horse_power                                                       66.0  \n",
       "color                                                            Black  \n",
       "paint_type                                                    Metallic  \n",
       "gears                                                              7.0  \n",
       "safety_security      abs,central door lock,driver-side airbag,elect...  \n",
       "type                                                              Used  \n",
       "upholstery                                                       Cloth  \n",
       "nr_of_doors                                                        5.0  \n",
       "nr_of_seats                                                        5.0  \n",
       "gearing_type                                                 Automatic  \n",
       "displacement                                                    1400.0  \n",
       "cylinders                                                          3.0  \n",
       "weight_kg                                                       1135.0  \n",
       "drive_chain                                                      front  \n",
       "fuel                                                            Diesel  \n",
       "consump_comb                                                       4.1  \n",
       "consump_city                                                       4.6  \n",
       "consump_country                                                    3.8  \n",
       "co2_emission                                                     109.0  \n",
       "comfort_convenience  Air conditioning,Armrest,Automatic climate con...  \n",
       "media                Bluetooth,CD player,Hands-free equipment,MP3,O...  \n",
       "extras               Alloy wheels,Sport package,Sport suspension,Vo...  "
      ]
     },
     "execution_count": 4,
     "metadata": {},
     "output_type": "execute_result"
    }
   ],
   "source": [
    "df_car.head().T"
   ]
  },
  {
   "cell_type": "markdown",
   "metadata": {},
   "source": [
    "##  ``car_price``"
   ]
  },
  {
   "cell_type": "code",
   "execution_count": 5,
   "metadata": {},
   "outputs": [
    {
     "data": {
      "image/png": "[encoded data removed]",
      "text/plain": [
       "<Figure size 432x288 with 1 Axes>"
      ]
     },
     "metadata": {},
     "output_type": "display_data"
    }
   ],
   "source": [
    "sns.kdeplot(df_car.price);"
   ]
  },
  {
   "cell_type": "code",
   "execution_count": 6,
   "metadata": {},
   "outputs": [
    {
     "data": {
      "text/plain": [
       "<AxesSubplot:xlabel='price'>"
      ]
     },
     "execution_count": 6,
     "metadata": {},
     "output_type": "execute_result"
    },
    {
     "data": {
      "image/png": "[encoded data removed]",
      "text/plain": [
       "<Figure size 432x288 with 1 Axes>"
      ]
     },
     "metadata": {},
     "output_type": "display_data"
    }
   ],
   "source": [
    "sns.boxplot(df_car.price)"
   ]
  },
  {
   "cell_type": "markdown",
   "metadata": {},
   "source": [
    "## ``km``"
   ]
  },
  {
   "cell_type": "code",
   "execution_count": 7,
   "metadata": {},
   "outputs": [
    {
     "data": {
      "image/png": "[encoded data removed]",
      "text/plain": [
       "<Figure size 1080x720 with 4 Axes>"
      ]
     },
     "metadata": {},
     "output_type": "display_data"
    }
   ],
   "source": [
    "plt.figure(figsize=(15,10))\n",
    "plt.subplot(141)\n",
    "plt.hist(df_car.km, bins = 50)\n",
    "\n",
    "plt.subplot(142)\n",
    "plt.boxplot(df_car.km)\n",
    "\n",
    "plt.subplot(143)\n",
    "plt.boxplot(df_car.km, whis = 2.5)\n",
    "\n",
    "plt.subplot(144)\n",
    "plt.boxplot(np.log(df_car.km), whis = 2.5)\n",
    "plt.show()"
   ]
  },
  {
   "cell_type": "markdown",
   "metadata": {},
   "source": [
    "## ``horse_power``"
   ]
  },
  {
   "cell_type": "code",
   "execution_count": 8,
   "metadata": {},
   "outputs": [
    {
     "data": {
      "text/plain": [
       "count   15919.000\n",
       "mean       88.388\n",
       "std        26.828\n",
       "min         1.000\n",
       "25%        66.000\n",
       "50%        85.000\n",
       "75%       101.000\n",
       "max       294.000\n",
       "Name: horse_power, dtype: float64"
      ]
     },
     "execution_count": 8,
     "metadata": {},
     "output_type": "execute_result"
    }
   ],
   "source": [
    "df_car.horse_power.describe()"
   ]
  },
  {
   "cell_type": "code",
   "execution_count": 9,
   "metadata": {},
   "outputs": [
    {
     "data": {
      "text/plain": [
       "Int64Index([ 3913,  6005,  6034,  6946,  7014,  7016,  7018,  7019,  9285,\n",
       "             9287,  9288,  9289,  9290,  9292,  9299, 10468, 10579, 10580,\n",
       "            10610, 13885, 15155, 15156],\n",
       "           dtype='int64')"
      ]
     },
     "execution_count": 9,
     "metadata": {},
     "output_type": "execute_result"
    }
   ],
   "source": [
    "df_car[df_car.horse_power < 40].index"
   ]
  },
  {
   "cell_type": "code",
   "execution_count": 10,
   "metadata": {},
   "outputs": [],
   "source": [
    "df_car.loc[df_car.horse_power < 40,'horse_power'] = df_car.horse_power.mean()"
   ]
  },
  {
   "cell_type": "code",
   "execution_count": 11,
   "metadata": {},
   "outputs": [
    {
     "data": {
      "text/plain": [
       "count   15919.000\n",
       "mean       88.508\n",
       "std        26.632\n",
       "min        40.000\n",
       "25%        66.000\n",
       "50%        85.000\n",
       "75%       101.000\n",
       "max       294.000\n",
       "Name: horse_power, dtype: float64"
      ]
     },
     "execution_count": 11,
     "metadata": {},
     "output_type": "execute_result"
    }
   ],
   "source": [
    "df_car.horse_power.describe()"
   ]
  },
  {
   "cell_type": "markdown",
   "metadata": {},
   "source": [
    "## ``nr_of_doors``"
   ]
  },
  {
   "cell_type": "code",
   "execution_count": 12,
   "metadata": {},
   "outputs": [
    {
     "data": {
      "text/plain": [
       "13782   1.000\n",
       "1811    2.000\n",
       "1228    2.000\n",
       "1229    2.000\n",
       "1230    2.000\n",
       "         ... \n",
       "6172    5.000\n",
       "6173    5.000\n",
       "6175    5.000\n",
       "15918   5.000\n",
       "15202   7.000\n",
       "Name: nr_of_doors, Length: 15919, dtype: float64"
      ]
     },
     "execution_count": 12,
     "metadata": {},
     "output_type": "execute_result"
    }
   ],
   "source": [
    "df_car['nr_of_doors'].sort_values()"
   ]
  },
  {
   "cell_type": "code",
   "execution_count": 13,
   "metadata": {},
   "outputs": [],
   "source": [
    "df_car['nr_of_doors'].replace([1,7],np.nan,inplace=True)"
   ]
  },
  {
   "cell_type": "code",
   "execution_count": 14,
   "metadata": {},
   "outputs": [
    {
     "name": "stdout",
     "output_type": "stream",
     "text": [
      "Number of NaN :  0\n",
      "------------------\n",
      "5.000    11789\n",
      "4.000     3079\n",
      "3.000      832\n",
      "2.000      219\n",
      "Name: nr_of_doors, dtype: int64\n"
     ]
    }
   ],
   "source": [
    "groupby_mode2('make_model','body_type','nr_of_doors')"
   ]
  },
  {
   "cell_type": "code",
   "execution_count": 15,
   "metadata": {},
   "outputs": [
    {
     "data": {
      "text/plain": [
       "5.000    11789\n",
       "4.000     3079\n",
       "3.000      832\n",
       "2.000      219\n",
       "Name: nr_of_doors, dtype: int64"
      ]
     },
     "execution_count": 15,
     "metadata": {},
     "output_type": "execute_result"
    }
   ],
   "source": [
    "df_car['nr_of_doors'].value_counts()"
   ]
  },
  {
   "cell_type": "markdown",
   "metadata": {},
   "source": [
    "## ``nr_of_seats``"
   ]
  },
  {
   "cell_type": "code",
   "execution_count": 16,
   "metadata": {},
   "outputs": [
    {
     "data": {
      "text/plain": [
       "5.000    14308\n",
       "4.000     1127\n",
       "7.000      362\n",
       "2.000      119\n",
       "6.000        2\n",
       "3.000        1\n",
       "Name: nr_of_seats, dtype: int64"
      ]
     },
     "execution_count": 16,
     "metadata": {},
     "output_type": "execute_result"
    }
   ],
   "source": [
    "df_car['nr_of_seats'].value_counts()"
   ]
  },
  {
   "cell_type": "code",
   "execution_count": 17,
   "metadata": {},
   "outputs": [
    {
     "data": {
      "text/plain": [
       "1636    Audi A1\n",
       "Name: make_model, dtype: object"
      ]
     },
     "execution_count": 17,
     "metadata": {},
     "output_type": "execute_result"
    }
   ],
   "source": [
    "df_car[df_car['nr_of_seats'] == 3]['make_model']"
   ]
  },
  {
   "cell_type": "code",
   "execution_count": 18,
   "metadata": {},
   "outputs": [],
   "source": [
    "df_car['nr_of_seats'].replace([3],5,inplace=True)"
   ]
  },
  {
   "cell_type": "markdown",
   "metadata": {},
   "source": [
    "## ``displacement``"
   ]
  },
  {
   "cell_type": "code",
   "execution_count": 19,
   "metadata": {},
   "outputs": [
    {
     "data": {
      "text/plain": [
       "1600.000     5384\n",
       "1400.000     3109\n",
       "1000.000     2587\n",
       "1500.000     1476\n",
       "1200.000     1246\n",
       "2000.000     1164\n",
       "900.000       372\n",
       "1100.000      289\n",
       "1800.000      211\n",
       "0.000          38\n",
       "2500.000       20\n",
       "100.000         7\n",
       "200.000         6\n",
       "1300.000        3\n",
       "1900.000        2\n",
       "1700.000        2\n",
       "15900.000       1\n",
       "3000.000        1\n",
       "16000.000       1\n",
       "Name: displacement, dtype: int64"
      ]
     },
     "execution_count": 19,
     "metadata": {},
     "output_type": "execute_result"
    }
   ],
   "source": [
    "df_car['displacement'].value_counts()"
   ]
  },
  {
   "cell_type": "code",
   "execution_count": 20,
   "metadata": {},
   "outputs": [],
   "source": [
    "df_car['displacement'].replace([0,100,200,15900,16000],np.nan,inplace=True)"
   ]
  },
  {
   "cell_type": "code",
   "execution_count": 21,
   "metadata": {},
   "outputs": [
    {
     "name": "stdout",
     "output_type": "stream",
     "text": [
      "Number of NaN :  0\n",
      "------------------\n",
      "1600.000    5417\n",
      "1400.000    3114\n",
      "1000.000    2587\n",
      "1500.000    1491\n",
      "1200.000    1246\n",
      "2000.000    1164\n",
      "900.000      372\n",
      "1100.000     289\n",
      "1800.000     211\n",
      "2500.000      20\n",
      "1300.000       3\n",
      "1900.000       2\n",
      "1700.000       2\n",
      "3000.000       1\n",
      "Name: displacement, dtype: int64\n"
     ]
    }
   ],
   "source": [
    "groupby_mode2('make_model','body_type','displacement')"
   ]
  },
  {
   "cell_type": "markdown",
   "metadata": {},
   "source": [
    "## ``cylinders``"
   ]
  },
  {
   "cell_type": "code",
   "execution_count": 22,
   "metadata": {},
   "outputs": [
    {
     "data": {
      "text/plain": [
       "4.000    12413\n",
       "3.000     3476\n",
       "5.000       22\n",
       "6.000        3\n",
       "8.000        2\n",
       "2.000        2\n",
       "1.000        1\n",
       "Name: cylinders, dtype: int64"
      ]
     },
     "execution_count": 22,
     "metadata": {},
     "output_type": "execute_result"
    }
   ],
   "source": [
    "df_car.cylinders.value_counts(dropna=False)"
   ]
  },
  {
   "cell_type": "code",
   "execution_count": 23,
   "metadata": {},
   "outputs": [],
   "source": [
    "df_car['cylinders'].replace([1,2,6,8],np.nan,inplace=True)"
   ]
  },
  {
   "cell_type": "code",
   "execution_count": 24,
   "metadata": {},
   "outputs": [
    {
     "name": "stdout",
     "output_type": "stream",
     "text": [
      "Number of NaN :  0\n",
      "------------------\n",
      "4.000    12420\n",
      "3.000     3477\n",
      "5.000       22\n",
      "Name: cylinders, dtype: int64\n"
     ]
    }
   ],
   "source": [
    "groupby_mode2('make_model','displacement','cylinders')"
   ]
  },
  {
   "cell_type": "markdown",
   "metadata": {},
   "source": [
    "## ``weight_kg``"
   ]
  },
  {
   "cell_type": "code",
   "execution_count": 25,
   "metadata": {},
   "outputs": [
    {
     "data": {
      "text/plain": [
       "8355      1.000\n",
       "12779     1.000\n",
       "1143    102.000\n",
       "8857    840.000\n",
       "14313   900.000\n",
       "Name: weight_kg, dtype: float64"
      ]
     },
     "execution_count": 25,
     "metadata": {},
     "output_type": "execute_result"
    }
   ],
   "source": [
    "df_car['weight_kg'].sort_values().head()"
   ]
  },
  {
   "cell_type": "code",
   "execution_count": 26,
   "metadata": {},
   "outputs": [],
   "source": [
    "df_car['weight_kg'].replace([1,102],np.nan,inplace=True)"
   ]
  },
  {
   "cell_type": "code",
   "execution_count": 27,
   "metadata": {},
   "outputs": [
    {
     "name": "stdout",
     "output_type": "stream",
     "text": [
      "Number of NaN :  0\n",
      "------------------\n",
      "1163.000    1583\n",
      "1360.000    1406\n",
      "1487.000     958\n",
      "1135.000     828\n",
      "1425.000     731\n",
      "            ... \n",
      "1797.000       1\n",
      "1950.000       1\n",
      "900.000        1\n",
      "1272.000       1\n",
      "1159.000       1\n",
      "Name: weight_kg, Length: 432, dtype: int64\n"
     ]
    }
   ],
   "source": [
    "groupby_mode2('make_model','body_type','weight_kg')"
   ]
  },
  {
   "cell_type": "markdown",
   "metadata": {},
   "source": [
    "## ``co2_emission``"
   ]
  },
  {
   "cell_type": "code",
   "execution_count": 28,
   "metadata": {},
   "outputs": [
    {
     "data": {
      "text/plain": [
       "0.000     2\n",
       "1.000     2\n",
       "5.000     3\n",
       "12.000    4\n",
       "13.000    1\n",
       "14.000    2\n",
       "36.000    3\n",
       "45.000    1\n",
       "51.000    1\n",
       "80.000    1\n",
       "Name: co2_emission, dtype: int64"
      ]
     },
     "execution_count": 28,
     "metadata": {},
     "output_type": "execute_result"
    }
   ],
   "source": [
    "df_car['co2_emission'].value_counts().sort_index().head(10)"
   ]
  },
  {
   "cell_type": "code",
   "execution_count": 29,
   "metadata": {},
   "outputs": [
    {
     "data": {
      "text/plain": [
       "count   15919.000\n",
       "mean      117.435\n",
       "std        19.707\n",
       "min         0.000\n",
       "25%       104.000\n",
       "50%       117.000\n",
       "75%       128.000\n",
       "max       990.000\n",
       "Name: co2_emission, dtype: float64"
      ]
     },
     "execution_count": 29,
     "metadata": {},
     "output_type": "execute_result"
    }
   ],
   "source": [
    "df_car['co2_emission'].describe()"
   ]
  },
  {
   "cell_type": "code",
   "execution_count": 30,
   "metadata": {},
   "outputs": [],
   "source": [
    "cond = ((df_car['co2_emission'] < 52) | (df_car['co2_emission'] > 330))\n",
    "df_car.loc[cond, \"co2_emission\"] = np.nan"
   ]
  },
  {
   "cell_type": "code",
   "execution_count": 31,
   "metadata": {},
   "outputs": [
    {
     "name": "stdout",
     "output_type": "stream",
     "text": [
      "Number of NaN :  0\n",
      "------------------\n",
      "120.000    1124\n",
      "97.000      785\n",
      "99.000      739\n",
      "114.000     679\n",
      "119.000     656\n",
      "           ... \n",
      "239.000       1\n",
      "171.000       1\n",
      "184.000       1\n",
      "253.000       1\n",
      "193.000       1\n",
      "Name: co2_emission, Length: 108, dtype: int64\n"
     ]
    }
   ],
   "source": [
    "groupby_mode2('make_model','displacement','co2_emission')"
   ]
  },
  {
   "cell_type": "markdown",
   "metadata": {},
   "source": [
    "## ``consump_country``"
   ]
  },
  {
   "cell_type": "code",
   "execution_count": 32,
   "metadata": {},
   "outputs": [
    {
     "data": {
      "text/plain": [
       "0.300       1\n",
       "2.900       1\n",
       "3.100     707\n",
       "3.200     180\n",
       "3.300     702\n",
       "3.400     353\n",
       "3.500     525\n",
       "3.600     540\n",
       "3.700    1394\n",
       "3.800     945\n",
       "Name: consump_country, dtype: int64"
      ]
     },
     "execution_count": 32,
     "metadata": {},
     "output_type": "execute_result"
    }
   ],
   "source": [
    "df_car['consump_country'].value_counts().sort_index().head(10)"
   ]
  },
  {
   "cell_type": "code",
   "execution_count": 33,
   "metadata": {},
   "outputs": [
    {
     "name": "stdout",
     "output_type": "stream",
     "text": [
      "Number of NaN :  0\n",
      "------------------\n",
      "4.200    1563\n",
      "3.700    1394\n",
      "4.400    1325\n",
      "3.900    1185\n",
      "4.500    1105\n",
      "3.800     945\n",
      "4.700     849\n",
      "4.900     755\n",
      "4.100     740\n",
      "3.100     707\n",
      "3.300     702\n",
      "4.600     633\n",
      "3.600     540\n",
      "3.500     525\n",
      "4.300     525\n",
      "5.300     370\n",
      "3.400     353\n",
      "4.800     341\n",
      "5.700     242\n",
      "5.400     239\n",
      "5.100     235\n",
      "3.200     180\n",
      "5.600     154\n",
      "5.200     118\n",
      "6.300      52\n",
      "5.500      36\n",
      "5.800      30\n",
      "7.700      20\n",
      "6.600      19\n",
      "6.400      15\n",
      "7.300       4\n",
      "6.500       4\n",
      "7.100       3\n",
      "5.900       2\n",
      "6.100       2\n",
      "7.800       2\n",
      "6.700       2\n",
      "7.600       1\n",
      "8.600       1\n",
      "6.900       1\n",
      "Name: consump_country, dtype: int64\n"
     ]
    }
   ],
   "source": [
    "df_car['consump_country'].replace([0.3,2.9],np.nan,inplace=True)\n",
    "groupby_mode2('make_model','displacement','consump_country')"
   ]
  },
  {
   "cell_type": "markdown",
   "metadata": {},
   "source": [
    "## ``consump_city``"
   ]
  },
  {
   "cell_type": "code",
   "execution_count": 34,
   "metadata": {},
   "outputs": [
    {
     "data": {
      "text/plain": [
       "0.100      2\n",
       "0.200     21\n",
       "0.400      1\n",
       "0.800      3\n",
       "1.200      4\n",
       "1.300     19\n",
       "1.500      4\n",
       "3.300     30\n",
       "3.400     50\n",
       "3.500    439\n",
       "Name: consump_city, dtype: int64"
      ]
     },
     "execution_count": 34,
     "metadata": {},
     "output_type": "execute_result"
    }
   ],
   "source": [
    "df_car.consump_city.value_counts().sort_index().head(10)"
   ]
  },
  {
   "cell_type": "code",
   "execution_count": 35,
   "metadata": {},
   "outputs": [
    {
     "data": {
      "text/plain": [
       "8.800     2\n",
       "8.900     4\n",
       "9.100    12\n",
       "9.200    34\n",
       "9.400    14\n",
       "9.500     3\n",
       "9.600    42\n",
       "9.700     1\n",
       "9.800     5\n",
       "9.900    16\n",
       "Name: consump_city, dtype: int64"
      ]
     },
     "execution_count": 35,
     "metadata": {},
     "output_type": "execute_result"
    }
   ],
   "source": [
    "df_car.consump_city.value_counts().sort_index().tail(10)"
   ]
  },
  {
   "cell_type": "code",
   "execution_count": 36,
   "metadata": {},
   "outputs": [],
   "source": [
    "cond = ((df_car['consump_city'] < 3) )\n",
    "df_car.loc[cond, \"consump_city\"] = np.nan"
   ]
  },
  {
   "cell_type": "code",
   "execution_count": 37,
   "metadata": {},
   "outputs": [
    {
     "name": "stdout",
     "output_type": "stream",
     "text": [
      "Number of NaN :  0\n",
      "------------------\n",
      "5.100    1263\n",
      "5.900    1107\n",
      "4.500     963\n",
      "7.800     830\n",
      "5.700     820\n",
      "5.800     753\n",
      "7.300     614\n",
      "6.700     597\n",
      "4.300     532\n",
      "6.800     517\n",
      "7.200     495\n",
      "5.400     448\n",
      "3.500     439\n",
      "4.600     417\n",
      "5.200     416\n",
      "6.300     412\n",
      "7.500     366\n",
      "4.200     353\n",
      "6.600     352\n",
      "4.100     320\n",
      "4.700     289\n",
      "7.100     260\n",
      "7.600     251\n",
      "3.900     245\n",
      "6.200     227\n",
      "6.900     223\n",
      "5.500     216\n",
      "7.700     205\n",
      "8.700     182\n",
      "7.400     179\n",
      "6.500     167\n",
      "6.100     153\n",
      "8.200     143\n",
      "6.400     143\n",
      "4.400     135\n",
      "5.600     107\n",
      "7.900     101\n",
      "5.300     101\n",
      "4.800      72\n",
      "4.900      58\n",
      "3.700      53\n",
      "3.400      50\n",
      "9.600      42\n",
      "8.600      42\n",
      "8.300      41\n",
      "8.500      39\n",
      "9.200      34\n",
      "3.300      30\n",
      "3.800      26\n",
      "8.100      25\n",
      "9.900      16\n",
      "9.400      14\n",
      "9.100      12\n",
      "8.400       7\n",
      "9.800       5\n",
      "8.900       4\n",
      "9.500       3\n",
      "3.600       2\n",
      "8.800       2\n",
      "9.700       1\n",
      "Name: consump_city, dtype: int64\n"
     ]
    }
   ],
   "source": [
    "groupby_mode2('make_model','displacement','consump_city')"
   ]
  },
  {
   "cell_type": "markdown",
   "metadata": {},
   "source": [
    "## ``consump_comb``"
   ]
  },
  {
   "cell_type": "code",
   "execution_count": 38,
   "metadata": {},
   "outputs": [
    {
     "data": {
      "text/plain": [
       "1.200      1\n",
       "1.600      3\n",
       "3.100      7\n",
       "3.200     25\n",
       "3.300    467\n",
       "3.400    113\n",
       "3.500    285\n",
       "3.600    230\n",
       "3.650     19\n",
       "3.700    387\n",
       "Name: consump_comb, dtype: int64"
      ]
     },
     "execution_count": 38,
     "metadata": {},
     "output_type": "execute_result"
    }
   ],
   "source": [
    "df_car.consump_comb.value_counts().sort_index().head(10)"
   ]
  },
  {
   "cell_type": "code",
   "execution_count": 39,
   "metadata": {},
   "outputs": [
    {
     "data": {
      "text/plain": [
       "7.550     2\n",
       "7.600    14\n",
       "7.800     6\n",
       "7.850     1\n",
       "7.900     3\n",
       "8.100     2\n",
       "8.300    19\n",
       "8.600     4\n",
       "8.700     3\n",
       "9.100     1\n",
       "Name: consump_comb, dtype: int64"
      ]
     },
     "execution_count": 39,
     "metadata": {},
     "output_type": "execute_result"
    }
   ],
   "source": [
    "df_car.consump_comb.value_counts().sort_index().tail(10)"
   ]
  },
  {
   "cell_type": "code",
   "execution_count": 40,
   "metadata": {},
   "outputs": [],
   "source": [
    "cond = ((df_car['consump_comb'] < 3) )\n",
    "df_car.loc[cond, \"consump_comb\"] = np.nan"
   ]
  },
  {
   "cell_type": "code",
   "execution_count": 41,
   "metadata": {},
   "outputs": [
    {
     "name": "stdout",
     "output_type": "stream",
     "text": [
      "Number of NaN :  0\n",
      "------------------\n",
      "4.500    1039\n",
      "5.400     852\n",
      "4.100     813\n",
      "5.600     752\n",
      "3.900     751\n",
      "         ... \n",
      "5.550       1\n",
      "7.850       1\n",
      "5.000       1\n",
      "9.100       1\n",
      "4.450       1\n",
      "Name: consump_comb, Length: 86, dtype: int64\n"
     ]
    }
   ],
   "source": [
    "groupby_mode2('make_model','displacement','consump_comb')"
   ]
  },
  {
   "cell_type": "markdown",
   "metadata": {},
   "source": [
    "## ``gears``"
   ]
  },
  {
   "cell_type": "code",
   "execution_count": 42,
   "metadata": {},
   "outputs": [
    {
     "data": {
      "text/plain": [
       "6.000    8617\n",
       "5.000    4255\n",
       "7.000    2810\n",
       "8.000     224\n",
       "9.000       6\n",
       "4.000       2\n",
       "1.000       2\n",
       "3.000       2\n",
       "2.000       1\n",
       "Name: gears, dtype: int64"
      ]
     },
     "execution_count": 42,
     "metadata": {},
     "output_type": "execute_result"
    }
   ],
   "source": [
    "df_car['gears'].value_counts()"
   ]
  },
  {
   "cell_type": "code",
   "execution_count": 43,
   "metadata": {},
   "outputs": [
    {
     "name": "stdout",
     "output_type": "stream",
     "text": [
      "Number of NaN :  0\n",
      "------------------\n",
      "6.000    8621\n",
      "5.000    4256\n",
      "7.000    2810\n",
      "8.000     224\n",
      "9.000       6\n",
      "4.000       2\n",
      "Name: gears, dtype: int64\n"
     ]
    }
   ],
   "source": [
    "df_car['gears'].replace([1,3,2],np.nan,inplace=True)\n",
    "groupby_mode2('make_model','displacement','gears')"
   ]
  },
  {
   "cell_type": "markdown",
   "metadata": {},
   "source": [
    "# Final Steps"
   ]
  },
  {
   "cell_type": "code",
   "execution_count": 44,
   "metadata": {},
   "outputs": [
    {
     "data": {
      "text/plain": [
       "Index(['make_model', 'body_type', 'price', 'km', 'car_age', 'prev_owner',\n",
       "       'horse_power', 'color', 'paint_type', 'gears', 'safety_security',\n",
       "       'type', 'upholstery', 'nr_of_doors', 'nr_of_seats', 'gearing_type',\n",
       "       'displacement', 'cylinders', 'weight_kg', 'drive_chain', 'fuel',\n",
       "       'consump_comb', 'consump_city', 'consump_country', 'co2_emission',\n",
       "       'comfort_convenience', 'media', 'extras'],\n",
       "      dtype='object')"
      ]
     },
     "execution_count": 44,
     "metadata": {},
     "output_type": "execute_result"
    }
   ],
   "source": [
    "df_car.columns"
   ]
  },
  {
   "cell_type": "code",
   "execution_count": 45,
   "metadata": {},
   "outputs": [],
   "source": [
    "df_car.to_csv('final_scout_not_dummy.csv',index=False)"
   ]
  },
  {
   "cell_type": "markdown",
   "metadata": {},
   "source": [
    "Using get_dummies"
   ]
  },
  {
   "cell_type": "code",
   "execution_count": 46,
   "metadata": {},
   "outputs": [],
   "source": [
    "df_car = df_car.join(df_car['comfort_convenience'].str.get_dummies(sep = ',').add_prefix('cc_'))\n",
    "df_car = df_car.join(df_car['media'].str.get_dummies(sep = ',').add_prefix('med_'))\n",
    "df_car = df_car.join(df_car['extras'].str.get_dummies(sep = ',').add_prefix('ex_'))\n",
    "df_car = df_car.join(df_car['safety_security'].str.get_dummies(sep = ',').add_prefix('ss_'))"
   ]
  },
  {
   "cell_type": "code",
   "execution_count": 47,
   "metadata": {},
   "outputs": [
    {
     "data": {
      "text/plain": [
       "<bound method DataFrame.info of            make_model body_type  price        km  car_age  prev_owner  \\\n",
       "0             Audi A1    Sedans  15770 56013.000    3.000       2.000   \n",
       "1             Audi A1    Sedans  14500 80000.000    2.000       1.000   \n",
       "2             Audi A1    Sedans  14640 83450.000    3.000       1.000   \n",
       "3             Audi A1    Sedans  14500 73000.000    3.000       1.000   \n",
       "4             Audi A1    Sedans  16790 16200.000    3.000       1.000   \n",
       "...               ...       ...    ...       ...      ...         ...   \n",
       "15914  Renault Espace       Van  39950  1611.101    0.000       0.000   \n",
       "15915  Renault Espace       Van  39885  9900.000    0.000       1.000   \n",
       "15916  Renault Espace       Van  39875    15.000    0.000       1.000   \n",
       "15917  Renault Espace       Van  39700    10.000    0.000       0.000   \n",
       "15918  Renault Espace       Van  40999  1611.101    0.000       1.000   \n",
       "\n",
       "       horse_power  color paint_type  gears  ... ss_led headlights  \\\n",
       "0           66.000  Black   Metallic  7.000  ...                 0   \n",
       "1          141.000    Red   Metallic  7.000  ...                 0   \n",
       "2           85.000  Black   Metallic  7.000  ...                 0   \n",
       "3           66.000  Brown   Metallic  6.000  ...                 0   \n",
       "4           66.000  Black   Metallic  7.000  ...                 0   \n",
       "...            ...    ...        ...    ...  ...               ...   \n",
       "15914      147.000   Grey   Metallic  6.000  ...                 1   \n",
       "15915      165.000   Grey   Metallic  7.000  ...                 1   \n",
       "15916      146.000  White   Metallic  6.000  ...                 1   \n",
       "15917      147.000   Grey   Metallic  6.000  ...                 1   \n",
       "15918      165.000   Grey   Metallic  6.000  ...                 0   \n",
       "\n",
       "      ss_night view assist ss_passenger-side airbag  ss_power steering  \\\n",
       "0                        0                        1                  1   \n",
       "1                        0                        1                  1   \n",
       "2                        0                        1                  1   \n",
       "3                        0                        1                  1   \n",
       "4                        0                        1                  1   \n",
       "...                    ...                      ...                ...   \n",
       "15914                    0                        1                  1   \n",
       "15915                    0                        1                  1   \n",
       "15916                    0                        1                  1   \n",
       "15917                    0                        1                  1   \n",
       "15918                    0                        1                  1   \n",
       "\n",
       "       ss_rear airbag ss_side airbag  ss_tire pressure monitoring system  \\\n",
       "0                   0              1                                   1   \n",
       "1                   0              1                                   1   \n",
       "2                   0              1                                   1   \n",
       "3                   0              1                                   1   \n",
       "4                   0              1                                   1   \n",
       "...               ...            ...                                 ...   \n",
       "15914               1              1                                   1   \n",
       "15915               0              1                                   1   \n",
       "15916               0              1                                   0   \n",
       "15917               0              1                                   1   \n",
       "15918               0              1                                   1   \n",
       "\n",
       "       ss_traction control  ss_traffic sign recognition ss_xenon headlights  \n",
       "0                        1                            0                   1  \n",
       "1                        1                            0                   1  \n",
       "2                        1                            0                   0  \n",
       "3                        0                            0                   0  \n",
       "4                        1                            0                   1  \n",
       "...                    ...                          ...                 ...  \n",
       "15914                    1                            1                   0  \n",
       "15915                    1                            1                   0  \n",
       "15916                    1                            1                   0  \n",
       "15917                    0                            1                   0  \n",
       "15918                    0                            1                   0  \n",
       "\n",
       "[15919 rows x 122 columns]>"
      ]
     },
     "execution_count": 47,
     "metadata": {},
     "output_type": "execute_result"
    }
   ],
   "source": [
    "df_car.info"
   ]
  },
  {
   "cell_type": "code",
   "execution_count": 48,
   "metadata": {},
   "outputs": [],
   "source": [
    "df_car.drop(['comfort_convenience','media','extras','safety_security'], axis = 1, inplace = True)"
   ]
  },
  {
   "cell_type": "code",
   "execution_count": 49,
   "metadata": {},
   "outputs": [
    {
     "data": {
      "text/plain": [
       "(15919, 118)"
      ]
     },
     "execution_count": 49,
     "metadata": {},
     "output_type": "execute_result"
    }
   ],
   "source": [
    "df_car.shape"
   ]
  },
  {
   "cell_type": "code",
   "execution_count": 50,
   "metadata": {},
   "outputs": [],
   "source": [
    "df_car_final = pd.get_dummies(df_car,drop_first=True)"
   ]
  },
  {
   "cell_type": "code",
   "execution_count": 51,
   "metadata": {},
   "outputs": [
    {
     "data": {
      "text/plain": [
       "(15919, 162)"
      ]
     },
     "execution_count": 51,
     "metadata": {},
     "output_type": "execute_result"
    }
   ],
   "source": [
    "df_car_final.shape"
   ]
  },
  {
   "cell_type": "code",
   "execution_count": 52,
   "metadata": {},
   "outputs": [
    {
     "data": {
      "text/plain": [
       "0"
      ]
     },
     "execution_count": 52,
     "metadata": {},
     "output_type": "execute_result"
    }
   ],
   "source": [
    "df_car_final.isnull().sum().sum()"
   ]
  },
  {
   "cell_type": "code",
   "execution_count": 53,
   "metadata": {},
   "outputs": [
    {
     "data": {
      "text/plain": [
       "['price',\n",
       " 'km',\n",
       " 'car_age',\n",
       " 'prev_owner',\n",
       " 'horse_power',\n",
       " 'gears',\n",
       " 'nr_of_doors',\n",
       " 'nr_of_seats',\n",
       " 'displacement',\n",
       " 'cylinders',\n",
       " 'weight_kg',\n",
       " 'consump_comb',\n",
       " 'consump_city',\n",
       " 'consump_country',\n",
       " 'co2_emission',\n",
       " 'cc_Air conditioning',\n",
       " 'cc_Air suspension',\n",
       " 'cc_Armrest',\n",
       " 'cc_Automatic climate control',\n",
       " 'cc_Auxiliary heating',\n",
       " 'cc_Cruise control',\n",
       " 'cc_Electric Starter',\n",
       " 'cc_Electric tailgate',\n",
       " 'cc_Electrical side mirrors',\n",
       " 'cc_Electrically adjustable seats',\n",
       " 'cc_Electrically heated windshield',\n",
       " 'cc_Heads-up display',\n",
       " 'cc_Heated steering wheel',\n",
       " 'cc_Hill Holder',\n",
       " 'cc_Keyless central door lock',\n",
       " 'cc_Leather seats',\n",
       " 'cc_Leather steering wheel',\n",
       " 'cc_Light sensor',\n",
       " 'cc_Lumbar support',\n",
       " 'cc_Massage seats',\n",
       " 'cc_Multi-function steering wheel',\n",
       " 'cc_Navigation system',\n",
       " 'cc_Panorama roof',\n",
       " 'cc_Park Distance Control',\n",
       " 'cc_Parking assist system camera',\n",
       " 'cc_Parking assist system self-steering',\n",
       " 'cc_Parking assist system sensors front',\n",
       " 'cc_Parking assist system sensors rear',\n",
       " 'cc_Power windows',\n",
       " 'cc_Rain sensor',\n",
       " 'cc_Seat heating',\n",
       " 'cc_Seat ventilation',\n",
       " 'cc_Split rear seats',\n",
       " 'cc_Start-stop system',\n",
       " 'cc_Sunroof',\n",
       " 'cc_Tinted windows',\n",
       " 'cc_Wind deflector',\n",
       " 'cc_Windshield',\n",
       " 'med_Bluetooth',\n",
       " 'med_CD player',\n",
       " 'med_Digital radio',\n",
       " 'med_Hands-free equipment',\n",
       " 'med_MP3',\n",
       " 'med_On-board computer',\n",
       " 'med_Radio',\n",
       " 'med_Sound system',\n",
       " 'med_Television',\n",
       " 'med_USB',\n",
       " 'ex_Alloy wheels',\n",
       " 'ex_Cab or rented Car',\n",
       " 'ex_Catalytic Converter',\n",
       " 'ex_Handicapped enabled',\n",
       " 'ex_Right hand drive',\n",
       " 'ex_Roof rack',\n",
       " 'ex_Shift paddles',\n",
       " 'ex_Ski bag',\n",
       " 'ex_Sliding door',\n",
       " 'ex_Sport package',\n",
       " 'ex_Sport seats',\n",
       " 'ex_Sport suspension',\n",
       " 'ex_Touch screen',\n",
       " 'ex_Trailer hitch',\n",
       " 'ex_Tuned car',\n",
       " 'ex_Voice Control',\n",
       " 'ex_Winter tyres',\n",
       " 'ss_abs',\n",
       " 'ss_adaptive cruise control',\n",
       " 'ss_adaptive headlights',\n",
       " 'ss_alarm system',\n",
       " 'ss_blind spot monitor',\n",
       " 'ss_central door lock',\n",
       " 'ss_central door lock with remote control',\n",
       " 'ss_daytime running lights',\n",
       " 'ss_driver drowsiness detection',\n",
       " 'ss_driver-side airbag',\n",
       " 'ss_electronic stability control',\n",
       " 'ss_emergency brake assistant',\n",
       " 'ss_emergency system',\n",
       " 'ss_fog lights',\n",
       " 'ss_head airbag',\n",
       " 'ss_immobilizer',\n",
       " 'ss_isofix',\n",
       " 'ss_lane departure warning system',\n",
       " 'ss_led daytime running lights',\n",
       " 'ss_led headlights',\n",
       " 'ss_night view assist',\n",
       " 'ss_passenger-side airbag',\n",
       " 'ss_power steering',\n",
       " 'ss_rear airbag',\n",
       " 'ss_side airbag',\n",
       " 'ss_tire pressure monitoring system',\n",
       " 'ss_traction control',\n",
       " 'ss_traffic sign recognition',\n",
       " 'ss_xenon headlights',\n",
       " 'make_model_Audi A2',\n",
       " 'make_model_Audi A3',\n",
       " 'make_model_Opel Astra',\n",
       " 'make_model_Opel Corsa',\n",
       " 'make_model_Opel Insignia',\n",
       " 'make_model_Renault Clio',\n",
       " 'make_model_Renault Duster',\n",
       " 'make_model_Renault Espace',\n",
       " 'body_type_Convertible',\n",
       " 'body_type_Coupe',\n",
       " 'body_type_Off-Road',\n",
       " 'body_type_Other',\n",
       " 'body_type_Sedans',\n",
       " 'body_type_Station wagon',\n",
       " 'body_type_Transporter',\n",
       " 'body_type_Van',\n",
       " 'color_Black',\n",
       " 'color_Blue',\n",
       " 'color_Bronze',\n",
       " 'color_Brown',\n",
       " 'color_Gold',\n",
       " 'color_Green',\n",
       " 'color_Grey',\n",
       " 'color_Orange',\n",
       " 'color_Red',\n",
       " 'color_Silver',\n",
       " 'color_Violet',\n",
       " 'color_White',\n",
       " 'color_Yellow',\n",
       " 'paint_type_Perl',\n",
       " 'paint_type_Uni',\n",
       " \"type_Employee's car\",\n",
       " 'type_New',\n",
       " 'type_Pre-registered',\n",
       " 'type_Used',\n",
       " 'upholstery_Black',\n",
       " 'upholstery_Blue',\n",
       " 'upholstery_Brown',\n",
       " 'upholstery_Cloth',\n",
       " 'upholstery_Full leather',\n",
       " 'upholstery_Grey',\n",
       " 'upholstery_Other',\n",
       " 'upholstery_Part leather',\n",
       " 'upholstery_Velour',\n",
       " 'upholstery_White',\n",
       " 'upholstery_alcantara',\n",
       " 'gearing_type_Manual',\n",
       " 'gearing_type_Semi-automatic',\n",
       " 'drive_chain_front',\n",
       " 'drive_chain_rear',\n",
       " 'fuel_Diesel',\n",
       " 'fuel_Electric',\n",
       " 'fuel_LPG/CNG']"
      ]
     },
     "execution_count": 53,
     "metadata": {},
     "output_type": "execute_result"
    }
   ],
   "source": [
    "df_car_final.columns.to_list()"
   ]
  },
  {
   "cell_type": "code",
   "execution_count": 54,
   "metadata": {},
   "outputs": [],
   "source": [
    "df_car_final.to_csv('df_car_final.csv')"
   ]
  }
 ],
 "metadata": {
  "interpreter": {
   "hash": "53a7fbe61d203d2dd91b6503d1477158e1dbff0453a610a9c429187bdf87bf58"
  },
  "kernelspec": {
   "display_name": "Python 3.9.5 64-bit",
   "language": "python",
   "name": "python3"
  },
  "language_info": {
   "codemirror_mode": {
    "name": "ipython",
    "version": 3
   },
   "file_extension": ".py",
   "mimetype": "text/x-python",
   "name": "python",
   "nbconvert_exporter": "python",
   "pygments_lexer": "ipython3",
   "version": "3.9.5"
  },
  "orig_nbformat": 4
 },
 "nbformat": 4,
 "nbformat_minor": 2
}
